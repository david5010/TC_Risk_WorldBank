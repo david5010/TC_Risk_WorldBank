{
 "cells": [
  {
   "cell_type": "code",
   "execution_count": 1,
   "metadata": {},
   "outputs": [
    {
     "name": "stdout",
     "output_type": "stream",
     "text": [
      "Once deleted, variables cannot be recovered. Proceed (y/[n])? y\n"
     ]
    }
   ],
   "source": [
    "reset"
   ]
  },
  {
   "cell_type": "code",
   "execution_count": 2,
   "metadata": {},
   "outputs": [],
   "source": [
    "# Note: TO RUN THIS SCRIPT, NEED TO BE IN CONDA ENVIRONMENT geopandas\n",
    "# because of conflicts between geopandas and other packages\n",
    "import geopandas as gpd\n",
    "import matplotlib.pyplot as plt\n",
    "import numpy as np\n",
    "import xarray as xr\n",
    "from shapely.geometry import box, mapping\n",
    "import rioxarray\n",
    "from rasterio import features\n",
    "from affine import Affine\n",
    "import pickle"
   ]
  },
  {
   "cell_type": "code",
   "execution_count": null,
   "metadata": {},
   "outputs": [],
   "source": [
    "# Root directory: change to where data downloaded to\n",
    "root_dir = '/data2/jbaldwin/WCAS2023'"
   ]
  },
  {
   "cell_type": "code",
   "execution_count": 3,
   "metadata": {},
   "outputs": [],
   "source": [
    "#Bounding Box for Philippines\n",
    "lonmin = 117.17427453\n",
    "latmin = 5.58100332277\n",
    "lonmax = 126.537423944\n",
    "latmax = 18.5052273625\n",
    "\n",
    "def transform_from_latlon(lat, lon):\n",
    "    lat = np.asarray(lat)\n",
    "    lon = np.asarray(lon)\n",
    "    trans = Affine.translation(lon[0], lat[0])\n",
    "    scale = Affine.scale(lon[1] - lon[0], lat[1] - lat[0])\n",
    "    return trans * scale\n",
    "\n",
    "def rasterize(shapes, coords, fill=np.nan, **kwargs):\n",
    "    \"\"\"Rasterize a list of (geometry, fill_value) tuples onto the given\n",
    "    xray coordinates. This only works for 1d latitude and longitude\n",
    "    arrays.\n",
    "    \"\"\"\n",
    "    transform = transform_from_latlon(coords['latitude'], coords['longitude'])\n",
    "    out_shape = (len(coords['latitude']), len(coords['longitude']))\n",
    "    raster = features.rasterize(shapes, out_shape=out_shape,\n",
    "                                fill=fill, transform=transform,\n",
    "                                dtype=float, **kwargs)\n",
    "    return xr.DataArray(raster, coords=coords, dims=('latitude', 'longitude'))\n"
   ]
  },
  {
   "cell_type": "code",
   "execution_count": 4,
   "metadata": {},
   "outputs": [],
   "source": [
    "# Wind field data for the grid\n",
    "ds_exp = xr.open_dataset(root_dir+'/HAZARD/WIND_SWATHS/IBTrACS/wspd_phi_swaths_maxasymcorrec_ibtracsv04r00_3-8-21.nc')#.sel(lon=slice(lonmin,lonmax),lat=slice(latmin,latmax))\n"
   ]
  },
  {
   "cell_type": "code",
   "execution_count": 6,
   "metadata": {},
   "outputs": [],
   "source": [
    "# Create region mask based on natural earth data\n",
    "# this shapefile is from natural earth data\n",
    "# http://www.naturalearthdata.com/downloads/10m-cultural-vectors/10m-admin-1-states-provinces/\n",
    "states = gpd.read_file(root_dir+'/REGION_MASKS/ne_10m_admin_1_states_provinces_lakes.shp')\n",
    "us_states = states.query(\"admin == 'Philippines'\").reset_index(drop=True)\n",
    "state_ids = {k: i for i, k in enumerate(us_states.woe_name)}\n",
    "shapes = [(shape, n) for n, shape in enumerate(us_states.geometry)]\n",
    "\n",
    "ds = xr.Dataset(coords={'longitude': np.linspace(lonmin, lonmax, num=5000),\n",
    "                          'latitude': np.linspace(latmin, latmax, num=3000)})\n",
    "ds['states'] = rasterize(shapes, ds.coords)\n",
    "\n",
    "# example of applying a mask\n",
    "#ds.states.where(ds.states == state_ids['California']).plot()"
   ]
  },
  {
   "cell_type": "code",
   "execution_count": 5,
   "metadata": {},
   "outputs": [
    {
     "data": {
      "image/png": "[encoded data removed]",
      "text/plain": [
       "<Figure size 432x288 with 2 Axes>"
      ]
     },
     "metadata": {
      "needs_background": "light"
     },
     "output_type": "display_data"
    }
   ],
   "source": [
    "# shapefile from the Philippines government\n",
    "states = gpd.read_file(root_dir+'/REGION_MASKS/PHL_AdminBoundaries_candidate_exclude_adm3.gdb')\n",
    "phi_states = states.reset_index(drop=True)\n",
    "state_ids = {k: i for i, k in enumerate(phi_states.admin1AltName1_en)}\n",
    "shapes = [(shape, n) for n, shape in enumerate(phi_states.geometry)]\n",
    "\n",
    "ds = xr.Dataset(coords={'longitude': ds_exp.lon.values,\n",
    "                          'latitude': ds_exp.lat.values})\n",
    "ds['states'] = rasterize(shapes, ds.coords)\n",
    "\n",
    "# example of applying a mask\n",
    "ds.states.where(ds.states == state_ids['Eastern Visayas']).plot()\n",
    "\n",
    "ds.to_netcdf(root_dir+'/REGION_MASKS/philippines_province_masks_windfield.nc')"
   ]
  },
  {
   "cell_type": "code",
   "execution_count": 10,
   "metadata": {},
   "outputs": [],
   "source": [
    "pickle.dump( state_ids, open( root_dir+\"/REGION_MASKS/state_ids.p\", \"wb\" ) )"
   ]
  }
 ],
 "metadata": {
  "kernelspec": {
   "display_name": "Python 3",
   "language": "python",
   "name": "python3"
  },
  "language_info": {
   "codemirror_mode": {
    "name": "ipython",
    "version": 3
   },
   "file_extension": ".py",
   "mimetype": "text/x-python",
   "name": "python",
   "nbconvert_exporter": "python",
   "pygments_lexer": "ipython3",
   "version": "3.7.1"
  }
 },
 "nbformat": 4,
 "nbformat_minor": 2
}
