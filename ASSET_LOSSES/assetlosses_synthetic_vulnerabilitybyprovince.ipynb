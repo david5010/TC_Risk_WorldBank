{
 "cells": [
  {
   "cell_type": "code",
   "execution_count": 48,
   "metadata": {},
   "outputs": [
    {
     "name": "stdout",
     "output_type": "stream",
     "text": [
      "Once deleted, variables cannot be recovered. Proceed (y/[n])? y\n"
     ]
    }
   ],
   "source": [
    "reset"
   ]
  },
  {
   "cell_type": "code",
   "execution_count": 49,
   "metadata": {},
   "outputs": [],
   "source": [
    "import xarray as xr\n",
    "import numpy as np\n",
    "import matplotlib.pyplot as plt\n",
    "import xesmf as xe\n",
    "import julian\n",
    "import datetime\n",
    "import cartopy.crs as ccrs\n",
    "import cartopy.feature as cfeature\n",
    "import pickle"
   ]
  },
  {
   "cell_type": "code",
   "execution_count": 50,
   "metadata": {},
   "outputs": [],
   "source": [
    "#Bounding Box for Philippines\n",
    "lonmin = 117.17427453\n",
    "latmin = 5.58100332277\n",
    "lonmax = 126.537423944\n",
    "latmax = 18.5052273625"
   ]
  },
  {
   "cell_type": "markdown",
   "metadata": {},
   "source": [
    "# Merge and load swaths:"
   ]
  },
  {
   "cell_type": "code",
   "execution_count": 51,
   "metadata": {},
   "outputs": [],
   "source": [
    "def preprocess(ds):\n",
    "    dsnew = ds.drop_dims('iT')\n",
    "    return dsnew\n",
    "\n",
    "direc = '/data2/jbaldwin/WINDFIELDS/ERAInterim_WPC/PHI_SWATHS/'\n",
    "\n",
    "# Open series of files\n",
    "ds0 = xr.open_mfdataset(direc+'WPC_000/wspd_phi_swaths_000_*.nc',combine='by_coords',preprocess=preprocess,parallel=True)\n",
    "ds1 = xr.open_mfdataset(direc+'WPC_001/wspd_phi_swaths_001_*.nc',combine='by_coords',preprocess=preprocess,parallel=True)\n",
    "ds2 = xr.open_mfdataset(direc+'WPC_002/wspd_phi_swaths_002_*.nc',combine='by_coords',preprocess=preprocess,parallel=True)\n",
    "\n",
    "# Adjust nS coordinate so can concatenate\n",
    "ds1b = ds1.assign_coords(nS = ds1.nS + ds0.nS.max() + 1)\n",
    "ds2b = ds2.assign_coords(nS = ds2.nS + ds1b.nS.max() + 1)\n",
    "\n",
    "ds_merged = xr.concat([ds0,ds1b,ds2b],dim='nS')\n",
    "\n",
    "swath = ds_merged.swath\n"
   ]
  },
  {
   "cell_type": "markdown",
   "metadata": {},
   "source": [
    "# Get data for exposure and vulnerability ready and regrid swaths to match."
   ]
  },
  {
   "cell_type": "code",
   "execution_count": 52,
   "metadata": {},
   "outputs": [
    {
     "name": "stdout",
     "output_type": "stream",
     "text": [
      "Reuse existing file: bilinear_146x111_1551x1124.nc\n"
     ]
    }
   ],
   "source": [
    "# Exposed Value Data, subset over Philippines\n",
    "ds_exp = xr.open_dataset('EXPOSED_VALUE/LitPopExposure_World.nc').sel(lon=slice(lonmin,lonmax),lat=slice(latmin,latmax))\n",
    "exposed_value = ds_exp.data\n",
    "#ds_exp = xr.open_dataset('EXPOSED_VALUE/asia_exposed_value_reduced.nc').sel(lon=slice(lonmin,lonmax),lat=slice(latmin,latmax))\n",
    "#exposed_value = ds_exp.exposed_value\n",
    "\n",
    "\n",
    "# Determine Regridder for Hazard --> Exposed Value\n",
    "regridder = xe.Regridder(swath, ds_exp, 'bilinear',reuse_weights=True)\n",
    "\n",
    "\n",
    "# Load Philippines province masks\n",
    "\n",
    "d_mask = xr.open_dataset('/home/jbaldwin/WorldBank/Region_Masks/philippines_province_masks.nc').rename(longitude='lon',latitude='lat')\n",
    "pickle_in = open(\"/home/jbaldwin/WorldBank/Region_Masks/state_ids.p\",\"rb\")\n",
    "state_ids = pickle.load(pickle_in)\n",
    "\n",
    "# Load Vhalf values from household survey data\n",
    "\n",
    "pickle_in = open(\"/home/jbaldwin/WorldBank/HOUSEHOLD_SURVEY_DATA/Vhalf_est.p\",\"rb\")\n",
    "Vhalf_est = pickle.load(pickle_in)\n",
    "\n",
    "# Making region names consistent between state_ids and Vhalf_est dicts\n",
    "\n",
    "Vhalf_est['Ilocos Region'] = Vhalf_est.pop('I - Ilocos') \n",
    "Vhalf_est['Cagayan Valley'] = Vhalf_est.pop('II - Cagayan Valley') \n",
    "Vhalf_est['Central Luzon'] = Vhalf_est.pop('III - Central Luzon') \n",
    "Vhalf_est['Calabarzon'] = Vhalf_est.pop('IVA - CALABARZON') \n",
    "Vhalf_est['Mimaropa'] = Vhalf_est.pop('IVB - MIMAROPA') \n",
    "Vhalf_est['Zamboanga Peninsula'] = Vhalf_est.pop('IX - Zamboanga Peninsula') \n",
    "Vhalf_est['Bicol Region'] = Vhalf_est.pop('V - Bicol') \n",
    "Vhalf_est['Western Visayas'] = Vhalf_est.pop('VI - Western Visayas') \n",
    "Vhalf_est['Central Visayas'] = Vhalf_est.pop('VII - Central Visayas') \n",
    "Vhalf_est['Eastern Visayas'] = Vhalf_est.pop('VIII - Eastern Visayas') \n",
    "Vhalf_est['Northern Mindanao'] = Vhalf_est.pop('X - Northern Mindanao') \n",
    "Vhalf_est['Davao Region'] = Vhalf_est.pop('XI - Davao') \n",
    "Vhalf_est['Soccsksargen'] = Vhalf_est.pop('XII - SOCCSKSARGEN') \n",
    "Vhalf_est['Caraga'] = Vhalf_est.pop('XIII - Caraga')\n",
    "\n",
    "# Create list of state names\n",
    "regions = state_ids.keys()\n",
    "\n",
    "\n",
    "# Assign vulnerability on map to different provinces\n",
    "Vhalf_map = xr.open_dataset('Vhalf_map.nc').rename(longitude='lon',latitude='lat')\n",
    "\n",
    "# Vhalf_map = xr.Dataset.copy(d_mask)\n",
    "# for key in regions:\n",
    "#     Vhalf_map.states.values[Vhalf_map.states==state_ids[key]] = Vhalf_est[key]\n",
    "    \n",
    "\n",
    "# Regrid wind swath\n",
    "swath_out = regridder(swath)\n"
   ]
  },
  {
   "cell_type": "code",
   "execution_count": 86,
   "metadata": {},
   "outputs": [
    {
     "data": {
      "text/plain": [
       "<xarray.Dataset>\n",
       "Dimensions:  (lat: 1551, lon: 1124)\n",
       "Coordinates:\n",
       "  * lon      (lon) float32 117.179 117.187 117.195 ... 126.52 126.529 126.537\n",
       "  * lat      (lat) float32 5.587 5.595 5.604 5.612 ... 18.487 18.495 18.504\n",
       "Data variables:\n",
       "    states   (lat, lon) float64 nan nan nan nan nan nan ... nan nan nan nan nan"
      ]
     },
     "execution_count": 86,
     "metadata": {},
     "output_type": "execute_result"
    }
   ],
   "source": [
    "Vhalf_map"
   ]
  },
  {
   "cell_type": "code",
   "execution_count": 53,
   "metadata": {},
   "outputs": [],
   "source": [
    "# function for Emanuel Vulnerability Curves\n",
    "\n",
    "def vulnerability(V,Vthresh,Vhalf): # calculate fractional property value lost over space\n",
    "\n",
    "    # V = Input wind speed swath; m/s\n",
    "    \n",
    "    # Vthresh = windspeed at and below which no damage occurs; m/s\n",
    "\n",
    "    # Vhalf = windspeed at which half the property value is lost; m/s\n",
    "\n",
    "    vn0 = V-Vthresh\n",
    "    vn = xr.ufuncs.maximum(vn0, vn0*0)/(Vhalf-Vthresh) # ufuncs so can take advantage of dask speedups\n",
    "    f = vn**3/(1+vn**3)\n",
    "    \n",
    "    return f # vulnerability in all different regions"
   ]
  },
  {
   "cell_type": "markdown",
   "metadata": {},
   "source": [
    "# Calculate Asset Losses for Each Historical Storm"
   ]
  },
  {
   "cell_type": "code",
   "execution_count": 54,
   "metadata": {},
   "outputs": [],
   "source": [
    "# Calculate vulnerability\n",
    "\n",
    "Vthresh = 25.7# Eberenz et al 2020, value for Philippines; m/s\n",
    "Vhalf = Vhalf_map.states#84.7# Eberenz et al 2020, value for Philippines using RMSF calculation; m/s\n",
    "V = swath_out\n",
    "\n",
    "f = vulnerability(V,Vthresh,Vhalf)\n"
   ]
  },
  {
   "cell_type": "code",
   "execution_count": 55,
   "metadata": {},
   "outputs": [],
   "source": [
    "# Calculate asset losses\n",
    "\n",
    "asset_losses = exposed_value*f"
   ]
  },
  {
   "cell_type": "markdown",
   "metadata": {},
   "source": [
    "# Calculate number of storms reaching tropical storm strength in each region over period."
   ]
  },
  {
   "cell_type": "code",
   "execution_count": 56,
   "metadata": {},
   "outputs": [],
   "source": [
    "# REGION TO DO THE HEAVY COMPUTATION AND PLOTTING OVER\n",
    "\n",
    "focus_region = 'Eastern Visayas'\n",
    "focus_region_nospace = 'EasternVisayas'"
   ]
  },
  {
   "cell_type": "code",
   "execution_count": 57,
   "metadata": {},
   "outputs": [],
   "source": [
    "# Calculate max wind, and number of tropical storms, and their frequency, in each region\n",
    "ts_count = {}\n",
    "ts_per_year = {}\n",
    "max_wind = {}\n",
    "for key in regions:\n",
    "    mask0 = d_mask.states.where(d_mask.states==state_ids[key])\n",
    "    mask = mask0/mask0\n",
    "    max_wind[key] = (swath_out*mask).max(dim='lon',skipna = True).max(dim='lat', skipna = True) # calculate max across region\n",
    "    ts_count[key] = (max_wind[key]>(40/1.944)).sum(dim='nS').sum(dim='ensembleNum') # count storms above tropical storm threshold\n"
   ]
  },
  {
   "cell_type": "code",
   "execution_count": 58,
   "metadata": {},
   "outputs": [],
   "source": [
    "# Load historical data of ts_per_year\n",
    "\n",
    "pickle_in = open(\"ts_per_year.p\",\"rb\")\n",
    "ts_per_year = pickle.load(pickle_in)"
   ]
  },
  {
   "cell_type": "code",
   "execution_count": 59,
   "metadata": {},
   "outputs": [],
   "source": [
    "# Determine period that is consistent with historical\n",
    "\n",
    "period_years = {}\n",
    "for reg in [focus_region]:\n",
    "    period_years[reg] = ts_count[reg]/ts_per_year[reg]"
   ]
  },
  {
   "cell_type": "code",
   "execution_count": 60,
   "metadata": {},
   "outputs": [
    {
     "name": "stderr",
     "output_type": "stream",
     "text": [
      "/home/jbaldwin/.conda/envs/worldbank/lib/python3.7/site-packages/dask/compatibility.py:93: RuntimeWarning: All-NaN slice encountered\n",
      "  return func(*args, **kwargs)\n",
      "/home/jbaldwin/.conda/envs/worldbank/lib/python3.7/site-packages/toolz/functoolz.py:468: RuntimeWarning: All-NaN slice encountered\n",
      "  ret = f(ret)\n"
     ]
    },
    {
     "name": "stdout",
     "output_type": "stream",
     "text": [
      "CPU times: user 10.2 s, sys: 15.2 s, total: 25.4 s\n",
      "Wall time: 5.07 s\n"
     ]
    }
   ],
   "source": [
    "#%%time\n",
    "\n",
    "# NOTE: THIS STEP TAKES A LONG TIME!\n",
    "# Get values for data\n",
    "obsw = np.concatenate(max_wind[focus_region])\n",
    "obsy = float(period_years[focus_region])"
   ]
  },
  {
   "cell_type": "code",
   "execution_count": 61,
   "metadata": {},
   "outputs": [],
   "source": [
    "# Save out data for max wind and period\n",
    "\n",
    "direc_save = '/data2/jbaldwin/WINDFIELDS/ERAInterim_WPC/PHI_REGION/'\n",
    "\n",
    "ds_max_wind = xr.DataArray.to_dataset(max_wind[focus_region],name='max_wind')\n",
    "\n",
    "ds_max_wind.attrs[\"period_years\"] = obsy\n",
    "\n",
    "ds_max_wind.to_netcdf(direc_save+'wpc0-2_maxwind_'+focus_region_nospace+'.nc')"
   ]
  },
  {
   "cell_type": "code",
   "execution_count": 62,
   "metadata": {},
   "outputs": [
    {
     "data": {
      "text/plain": [
       "Text(0.5, 1.0, 'Eastern Visayas')"
      ]
     },
     "execution_count": 62,
     "metadata": {},
     "output_type": "execute_result"
    },
    {
     "data": {
      "image/png": "[encoded data removed]",
      "text/plain": [
       "<Figure size 432x288 with 1 Axes>"
      ]
     },
     "metadata": {
      "needs_background": "light"
     },
     "output_type": "display_data"
    }
   ],
   "source": [
    "# Calculate return periods for different exceedance levels\n",
    "ax1 = plt.subplot(111)\n",
    "pdfevents,bins = np.histogram(obsw,np.unique(np.hstack([np.sort(obsw),obsw.max()+5]))) # determine frequency in each bin\n",
    "cdfevents = 1.*np.cumsum(pdfevents[::-1])[::-1]/obsy # calculate cumulative frequency per year in each bin\n",
    "returnP_o = 1./cdfevents # calculate return period (1/f)\n",
    "dot, = ax1.semilogx(returnP_o[:],bins[:-1],'k-',label='obs',zorder=20)\n",
    "plt.xlabel('Return Period [years]')\n",
    "plt.ylabel('Maximum Sustained Wind Speed\\n across Region [m/s]')\n",
    "plt.title(focus_region)"
   ]
  },
  {
   "cell_type": "code",
   "execution_count": 63,
   "metadata": {},
   "outputs": [],
   "source": [
    "# Find exceedance values for different prescribed return periods\n",
    "r = np.array([1.,5.,10.,20.,50.,100.,200.,500.])\n",
    "e_max_wind = {}\n",
    "for i in range(len(r)):\n",
    "    index_of_returnperiod = np.argmin(np.abs(returnP_o-r[i]))\n",
    "    e_max_wind[r[i]] = bins[index_of_returnperiod]\n",
    "    \n",
    "# Save out exceedance for return periods    \n",
    "pickle.dump( e_max_wind, open( direc_save + 'e_max_wind_'+focus_region_nospace+'.p', \"wb\" ) )"
   ]
  },
  {
   "cell_type": "markdown",
   "metadata": {},
   "source": [
    "# Calculate regional asset losses."
   ]
  },
  {
   "cell_type": "code",
   "execution_count": 64,
   "metadata": {},
   "outputs": [],
   "source": [
    "# Calculate asset losses summed over region\n",
    "\n",
    "asset_losses_reg = {}\n",
    "for key in regions:\n",
    "    mask0 = d_mask.states.where(d_mask.states==state_ids[key])\n",
    "    mask = mask0/mask0\n",
    "    asset_losses_reg[key] = (asset_losses*mask).sum(dim='lon',skipna = True).sum(dim='lat', skipna = True) # mask and calculate sum across region\n"
   ]
  },
  {
   "cell_type": "code",
   "execution_count": 65,
   "metadata": {},
   "outputs": [
    {
     "name": "stdout",
     "output_type": "stream",
     "text": [
      "CPU times: user 12.2 s, sys: 13.1 s, total: 25.3 s\n",
      "Wall time: 14.1 s\n"
     ]
    }
   ],
   "source": [
    "#%%time\n",
    "\n",
    "# NOTE: THIS STEP TAKES A LONG TIME!\n",
    "# Get values for data\n",
    "obsa = np.concatenate(asset_losses_reg[focus_region])\n",
    "# obsy defined earlier"
   ]
  },
  {
   "cell_type": "code",
   "execution_count": 69,
   "metadata": {},
   "outputs": [],
   "source": [
    "# Save out data for asset_losses and period\n",
    "\n",
    "ds_asset_losses = xr.DataArray.to_dataset(asset_losses_reg[focus_region],name='asset_losses')\n",
    "\n",
    "ds_asset_losses.attrs[\"period_years\"] = obsy\n",
    "\n",
    "ds_asset_losses.to_netcdf('/data2/jbaldwin/WINDFIELDS/ERAInterim_WPC/PHI_REGION/wpc0-2_assetlosses_'+focus_region_nospace+'.nc')"
   ]
  },
  {
   "cell_type": "code",
   "execution_count": 70,
   "metadata": {},
   "outputs": [
    {
     "data": {
      "text/plain": [
       "Text(0.5, 1.0, 'Eastern Visayas')"
      ]
     },
     "execution_count": 70,
     "metadata": {},
     "output_type": "execute_result"
    },
    {
     "data": {
      "image/png": "[encoded data removed]",
      "text/plain": [
       "<Figure size 432x288 with 1 Axes>"
      ]
     },
     "metadata": {
      "needs_background": "light"
     },
     "output_type": "display_data"
    }
   ],
   "source": [
    "# Calculate return periods for different exceedance levels\n",
    "ax1 = plt.subplot(111)\n",
    "pdfevents,bins = np.histogram(obsa,np.unique(np.hstack([np.sort(obsa),obsa.max()+5]))) # determine frequency in each bin\n",
    "cdfevents = 1.*np.cumsum(pdfevents[::-1])[::-1]/obsy # calculate cumulative frequency per year in each bin\n",
    "returnP_o = 1./cdfevents # calculate return period (1/f)\n",
    "dot, = ax1.semilogx(returnP_o[:],bins[:-1],'k-',label='obs',zorder=20)\n",
    "plt.xlabel('Return Period [years]')\n",
    "plt.ylabel('Total Asset Losses\\n across Region [USD]')\n",
    "plt.title(focus_region)"
   ]
  },
  {
   "cell_type": "code",
   "execution_count": 71,
   "metadata": {},
   "outputs": [],
   "source": [
    "# Find exceedance values for different prescribed return periods\n",
    "r = np.array([1.,5.,10.,20.,50.,100.,200.,500.])\n",
    "e_asset_losses = {}\n",
    "for i in range(len(r)):\n",
    "    index_of_returnperiod = np.argmin(np.abs(returnP_o-r[i]))\n",
    "    e_asset_losses[r[i]] = bins[index_of_returnperiod]\n",
    "    \n",
    "# Save out exceedance for return periods    \n",
    "pickle.dump( e_asset_losses, open( direc_save + 'e_asset_losses_'+focus_region_nospace+'.p', \"wb\" ) )"
   ]
  }
 ],
 "metadata": {
  "kernelspec": {
   "display_name": "Python 3",
   "language": "python",
   "name": "python3"
  },
  "language_info": {
   "codemirror_mode": {
    "name": "ipython",
    "version": 3
   },
   "file_extension": ".py",
   "mimetype": "text/x-python",
   "name": "python",
   "nbconvert_exporter": "python",
   "pygments_lexer": "ipython3",
   "version": "3.7.1"
  }
 },
 "nbformat": 4,
 "nbformat_minor": 2
}
